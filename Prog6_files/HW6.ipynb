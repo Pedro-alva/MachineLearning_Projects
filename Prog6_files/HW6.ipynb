{
 "cells": [
  {
   "cell_type": "markdown",
   "metadata": {},
   "source": [
    "# HW 6\n",
    "\n",
    "This assignment covers Comparision of Decision Trees and Support Vector Machine. \n",
    "**DO NOT ERASE MARKDOWN CELLS AND INSTRUCTIONS IN YOUR HW submission**\n",
    "\n",
    "  * **Q** - QUESTION\n",
    "  * **A** - Where to input your answer\n",
    "\n",
    "## Instructions\n",
    "\n",
    "Keep the following in mind for all notebooks you develop:\n",
    "* Structure your notebook. \n",
    "* Use headings with meaningful levels in Markdown cells, and explain the questions each piece of code is to answer or the reason it is there.\n",
    "* Make sure your notebook can always be rerun from top to bottom.\n",
    "* Objective of this assignment is to help you master python and scikit-learn package. \n",
    "* See [README.md](README.md) for homework submission instructions\n",
    "\n",
    "## Related Tutorials\n",
    "    \n",
    "* [Decision Tree with KFold Cross Validation](https://scikit-learn.org/stable/modules/generated/sklearn.model_selection.cross_val_score.html)\n",
    "\n",
    "* [Decision Tree with Bagging](https://scikit-learn.org/stable/modules/generated/sklearn.ensemble.BaggingRegressor.html#sklearn.ensemble.BaggingRegressor)\n",
    "\n",
    "* [Support Vector Machine](https://towardsdatascience.com/support-vector-machine-introduction-to-machine-learning-algorithms-934a444fca47)\n"
   ]
  },
  {
   "cell_type": "markdown",
   "metadata": {},
   "source": [
    "# Data Processing"
   ]
  },
  {
   "cell_type": "markdown",
   "metadata": {},
   "source": [
    "**Q1** Get training data from the dataframe\n",
    "1. Load ../data/HW6_data.csv into a data frame\n",
    "2. Check if there is any NaN in the dataset\n",
    "3. Clean the dataset \n",
    "4. Assign values of ```target_class``` column to ```y```, note you have to use ```.values``` method\n",
    "5. Drop ```target_class``` column from data frame,\n",
    "6. Assign df values to x\n",
    "7. Split dataset into train and test data use train_test_split with test_size = 0.25, stratify y and random_state = 1238\n",
    "\n",
    "**A1** Replace ??? with code in the code cell below"
   ]
  },
  {
   "cell_type": "code",
   "execution_count": 96,
   "metadata": {},
   "outputs": [
    {
     "data": {
      "text/plain": [
       "9273"
      ]
     },
     "execution_count": 96,
     "metadata": {},
     "output_type": "execute_result"
    }
   ],
   "source": [
    "import numpy as np\n",
    "import pandas as pd\n",
    "from sklearn.model_selection import train_test_split\n",
    "from sklearn.linear_model import LogisticRegression\n",
    "\n",
    "#Read the data file using the prropriate separator as input to read_csv()\n",
    "\n",
    "df = pd.read_csv('HW6_data.csv')\n",
    "df.head(10)\n",
    "# check if there is NaN in the dataset\n",
    "df.isnull()\n",
    "#Drop NaNs if there is any\n",
    "df.dropna(inplace = True)\n",
    "\n",
    "# Count number of entries for different class_target\n",
    "df['target_class'].size"
   ]
  },
  {
   "cell_type": "code",
   "execution_count": 97,
   "metadata": {},
   "outputs": [],
   "source": [
    "# Assign values of ```target_class``` column to y, note you have to use .values method\n",
    "y = df.target_class.values\n",
    "# Drop 'target_class' column from data frame,\n",
    "df.drop(columns = ['target_class'], inplace = True)\n",
    "# Assign df values to x\n",
    "x = df.values\n",
    "# View shape of x and y\n",
    "x.shape\n",
    "y.shape\n",
    "\n",
    "xtrain, xtest, ytrain, ytest = train_test_split(x,y, test_size = 0.25, random_state = 1238, stratify = y)"
   ]
  },
  {
   "cell_type": "markdown",
   "metadata": {
    "id": "NsUM8-i_KhK1"
   },
   "source": [
    "# Decision Tree"
   ]
  },
  {
   "cell_type": "markdown",
   "metadata": {},
   "source": [
    "## Decision Tree with different depth"
   ]
  },
  {
   "cell_type": "markdown",
   "metadata": {},
   "source": [
    "**Q2** Train DecisionTreeClassifier Model at different depths \n",
    "1. Create four [DecisionTreeClassifier](https://scikit-learn.org/stable/modules/generated/sklearn.tree.DecisionTreeClassifier.html) models with different parameters\n",
    "2. Create four decision tree classifier models, use max_depth size = 1, 2, 5, 25 & max_leaf_nodes=5, 10, 15, 25 respectively\n",
    "3. Use random_state=30 & criterion='entropy' for all models\n",
    "4. Fit the model with the train data. You will have 4 different models for different depth sizes.\n",
    "5. Predict the values with the test data \n",
    "6. Calculate the mean squared error of each model's prediction\n",
    "7. Print precision recall curve for the model with the best MSE value\n",
    "\n",
    "**A2** Replace ??? with code in the code cell below"
   ]
  },
  {
   "cell_type": "code",
   "execution_count": 98,
   "metadata": {},
   "outputs": [
    {
     "data": {
      "text/plain": [
       "0.0258732212160414"
      ]
     },
     "metadata": {},
     "output_type": "display_data"
    },
    {
     "data": {
      "text/plain": [
       "0.0258732212160414"
      ]
     },
     "metadata": {},
     "output_type": "display_data"
    },
    {
     "data": {
      "text/plain": [
       "0.02501078050884002"
      ]
     },
     "metadata": {},
     "output_type": "display_data"
    },
    {
     "data": {
      "text/plain": [
       "0.0258732212160414"
      ]
     },
     "metadata": {},
     "output_type": "display_data"
    }
   ],
   "source": [
    "from sklearn.tree import DecisionTreeClassifier\n",
    "from sklearn.metrics import mean_squared_error\n",
    "from IPython.display import display\n",
    "\n",
    "#create decision tree classifier\n",
    "clf_1 = DecisionTreeClassifier(max_depth = 1, max_leaf_nodes = 5, random_state = 30, criterion = 'entropy') \n",
    "clf_2 = DecisionTreeClassifier(max_depth = 2, max_leaf_nodes = 10, random_state = 30, criterion = 'entropy') \n",
    "clf_3 = DecisionTreeClassifier(max_depth = 5, max_leaf_nodes = 15, random_state = 30, criterion = 'entropy') \n",
    "clf_4 = DecisionTreeClassifier(max_depth = 25, max_leaf_nodes = 25, random_state = 30, criterion = 'entropy') \n",
    "\n",
    "#fit classifier model\n",
    "clf_1.fit(xtrain, ytrain)\n",
    "clf_2.fit(xtrain, ytrain)\n",
    "clf_3.fit(xtrain, ytrain)\n",
    "clf_4.fit(xtrain, ytrain)\n",
    "\n",
    "#predict\n",
    "y_pred_clf1 = clf_1.predict(xtest)\n",
    "y_pred_clf2 = clf_2.predict(xtest)\n",
    "y_pred_clf3 = clf_3.predict(xtest)\n",
    "y_pred_clf4 = clf_4.predict(xtest)\n",
    "\n",
    "#calculate mean_squared_error\n",
    "mse_clf1 = mean_squared_error(ytest, y_pred_clf1)\n",
    "mse_clf2 = mean_squared_error(ytest, y_pred_clf2)\n",
    "mse_clf3 = mean_squared_error(ytest, y_pred_clf3)\n",
    "mse_clf4 = mean_squared_error(ytest, y_pred_clf4)\n",
    "\n",
    "#printing mse values\n",
    "display(mse_clf1)\n",
    "display(mse_clf2)\n",
    "display(mse_clf3)\n",
    "display(mse_clf4)"
   ]
  },
  {
   "cell_type": "markdown",
   "metadata": {},
   "source": [
    "### Precision-Recall Curve for Best Above"
   ]
  },
  {
   "cell_type": "markdown",
   "metadata": {},
   "source": [
    "``Important Note:`` If ``from_estimator()`` function gives Attribute error then it means your sklearn is not updated.\n",
    "\n",
    "* If you are using conda, you can upgrade with\n",
    "\n",
    "conda upgrade -c conda-forge scikit-learn\n",
    "\n",
    "* or, with pip,\n",
    "\n",
    "python -m pip install scikit-learn --upgrade\n"
   ]
  },
  {
   "cell_type": "code",
   "execution_count": 99,
   "metadata": {},
   "outputs": [
    {
     "data": {
      "image/png": "[encoded data removed]",
      "text/plain": [
       "<Figure size 432x288 with 1 Axes>"
      ]
     },
     "metadata": {
      "needs_background": "light"
     },
     "output_type": "display_data"
    }
   ],
   "source": [
    "from sklearn.metrics import precision_recall_curve\n",
    "from sklearn.metrics import PrecisionRecallDisplay\n",
    "import matplotlib.pyplot as plt\n",
    "\n",
    "precision_recall_curve(ytest, y_pred_clf3)\n",
    "PrecisionRecallDisplay.from_estimator(clf_3, xtest, ytest)\n",
    "plt.show()"
   ]
  },
  {
   "cell_type": "markdown",
   "metadata": {},
   "source": [
    "### Decision Tree with K-fold cross validation"
   ]
  },
  {
   "cell_type": "markdown",
   "metadata": {},
   "source": [
    "**Q3** Use Kfold on the testing dataset, and evaluate the best model\n",
    "1. Finally pick the best max_depth you got\n",
    "2. Use this max_depth & max_leaf_node. Also, use cross_val_score and fit your model with k = 5 fold size\n",
    "3. Calculate average scores in kfold\n",
    "\n",
    "**A3** Replace ??? with code in the code cell below"
   ]
  },
  {
   "cell_type": "code",
   "execution_count": 100,
   "metadata": {},
   "outputs": [
    {
     "name": "stdout",
     "output_type": "stream",
     "text": [
      "Cross-validation scores: [0.9798706  0.97843278 0.97699497 0.98634076 0.97482014]\n",
      "Average cross-validation score: 0.98\n"
     ]
    }
   ],
   "source": [
    "from sklearn.model_selection import KFold, cross_val_score\n",
    "\n",
    "scores = cross_val_score(clf_3, xtrain, ytrain, cv = KFold(n_splits = 5))\n",
    "print(\"Cross-validation scores: {}\".format(scores))\n",
    "print(\"Average cross-validation score: {:.2f}\".format(scores.mean()))"
   ]
  },
  {
   "cell_type": "markdown",
   "metadata": {},
   "source": [
    "###  Decision Tree with Bagging "
   ]
  },
  {
   "cell_type": "markdown",
   "metadata": {},
   "source": [
    "**Q4** Now we will use Bagging technique on the our previous best model, and evaluate it\n",
    "\n",
    "```Part 1:```\n",
    "1. Now, Create a Bagged Model passing  ```model = previous_best, n_estimators = 10 & random_state=1 to BaggingClassifier()```\n",
    "2. Fit the model with the train data\n",
    "3. Predict the values with the test data\n",
    "4. Calculate the test MSE \n",
    "5. Plot Precision-Recall Curve from the true & predicted test data\n",
    "\n",
    "**A4** Replace ??? with code in the code cell below"
   ]
  },
  {
   "cell_type": "code",
   "execution_count": 101,
   "metadata": {},
   "outputs": [],
   "source": [
    "from sklearn.ensemble import BaggingClassifier\n",
    "\n",
    "# Use BaggingRegressor to fit the training data\n",
    "# Calculate the mean squared error \n",
    "\n",
    "#load BaggingRegressor model and pass n_estimators=10, random_state=1\n",
    "bagged_clf = BaggingClassifier(n_estimators = 10, random_state = 1)\n",
    "bagged_clf.fit(xtrain, ytrain)\n",
    "pred = bagged_clf.predict(xtest)\n",
    "mse = mean_squared_error(ytest, pred)"
   ]
  },
  {
   "cell_type": "code",
   "execution_count": 102,
   "metadata": {
    "scrolled": true
   },
   "outputs": [
    {
     "data": {
      "image/png": "[encoded data removed]",
      "text/plain": [
       "<Figure size 432x288 with 1 Axes>"
      ]
     },
     "metadata": {
      "needs_background": "light"
     },
     "output_type": "display_data"
    }
   ],
   "source": [
    "#pass necessary parameters to PrecisionRecallDisplay.from_estimator() \n",
    "\n",
    "PrecisionRecallDisplay.from_estimator(bagged_clf, xtest, ytest)\n",
    "plt.show()"
   ]
  },
  {
   "cell_type": "markdown",
   "metadata": {},
   "source": [
    "```Part 2: ```\n",
    "\n",
    "1. Why BaggingClassifier is called an ensembled technique? why it works better most of the time than the single model classifiers?\n",
    "\n",
    "### The BaggingClassifier is called an ensembled technique due to the nature of using multiple random data points in different models and each getting there own value which is then average or voted on. This a better technique as it creates more accurate predictions due to having multiple models evaluated. The concept is of ensembled technique is that of group thinking and how it's better to have multiple people looking at the data then just one expert. \n",
    "\n",
    "2. What is the disadvantage of incresing the number of estimators while using BaggingClassifier? Explain with an appropriate example.\n",
    "\n",
    "### Increasing the number of estimators provides better accuracy but unfortantly takes much longer to compute the higher you go "
   ]
  },
  {
   "cell_type": "markdown",
   "metadata": {},
   "source": [
    "# Support Vector Machine(SVM)"
   ]
  },
  {
   "cell_type": "markdown",
   "metadata": {},
   "source": [
    "**Q5** Create SVM Model on the training set, and evaluate\n",
    "\n",
    "```Part:1```\n",
    "1. Now, Create a SVM Model with default parameters\n",
    "2. Fit the model with the train data\n",
    "3. Predict the values with the test data\n",
    "4. Calculate the test MSE \n",
    "5. Plot confusion matrix on the test data\n",
    "\n",
    "\n",
    "**A5** Replace ??? with code in the code cell below"
   ]
  },
  {
   "cell_type": "code",
   "execution_count": 103,
   "metadata": {},
   "outputs": [
    {
     "name": "stdout",
     "output_type": "stream",
     "text": [
      "Model accuracy score with default hyperparameters: 0.9685\n"
     ]
    }
   ],
   "source": [
    "# import SVC classifier\n",
    "from sklearn.svm import SVC\n",
    "# import metrics to compute accuracy\n",
    "from sklearn.metrics import accuracy_score\n",
    "\n",
    "svc= SVC()\n",
    "\n",
    "# fit classifier to training set\n",
    "svc.fit(xtrain, ytrain)\n",
    "\n",
    "\n",
    "# make predictions on test set\n",
    "pred_svc = svc.predict(xtest)\n",
    "\n",
    "#Calculate MSE\n",
    "mse_svc = mean_squared_error(ytest, pred_svc)\n",
    "\n",
    "\n",
    "# compute and print accuracy score\n",
    "print('Model accuracy score with default hyperparameters: {0:0.4f}'.format(svc.score(xtest, ytest)))"
   ]
  },
  {
   "cell_type": "code",
   "execution_count": 104,
   "metadata": {},
   "outputs": [
    {
     "data": {
      "image/png": "[encoded data removed]",
      "text/plain": [
       "<Figure size 432x288 with 2 Axes>"
      ]
     },
     "metadata": {
      "needs_background": "light"
     },
     "output_type": "display_data"
    }
   ],
   "source": [
    "from sklearn.metrics import ConfusionMatrixDisplay\n",
    "import matplotlib.pyplot as plt\n",
    "\n",
    "cm = ConfusionMatrixDisplay.from_estimator(svc, xtest, ytest)\n",
    "\n",
    "plt.title(\"SVM Model - Confusion Matrix\")\n",
    "plt.xticks(range(2), [\"Class 0\",\"Class 1\"], fontsize=16)\n",
    "plt.yticks(range(2), [\"Class 0\",\"Class 1\"], fontsize=16)\n",
    "plt.show()"
   ]
  },
  {
   "cell_type": "markdown",
   "metadata": {},
   "source": [
    "```Part2:```\n",
    "\n",
    "1. From the above Confusion Matrix we can see that high number of Class 1 is predicted as Class 0 from the model. What is your reasoning behind this situtation? \n",
    "\n",
    "#### One of the possible reasons behind this issues is due the training data. If our training data accuracy is low it can give us a lot of erros when making the predictions. \n",
    "\n",
    "2. What can be done in order to resolve this issue?\n",
    "\n",
    "#### If we look into the cleaning up the training data we can get better results. "
   ]
  },
  {
   "cell_type": "markdown",
   "metadata": {},
   "source": [
    "## SVM with high margin"
   ]
  },
  {
   "cell_type": "markdown",
   "metadata": {},
   "source": [
    "**Q6** Create SVM Model on the training set, and evaluate\n",
    "\n",
    "``Note:``\n",
    "1. If we analyze our dataset using df.describe() function, we will see that there are many outliers in the dataset.\n",
    "2. So, we need to increase our margin with ```HIGH C``` values so that the SVM model get better generalization\n",
    "\n",
    "``Task:``\n",
    "\n",
    "1. Now, Create a SVM Model with rbf kernel and C=100\n",
    "2. Fit the model with the train data\n",
    "3. Predict the values with the test data\n",
    "4. Calculate the test MSE \n",
    "5. Plot Confusion Matrix from the true & predicted test data\n",
    "\n",
    "\n",
    "**A6** Replace ??? with code in the code cell below\n"
   ]
  },
  {
   "cell_type": "code",
   "execution_count": 105,
   "metadata": {},
   "outputs": [
    {
     "name": "stdout",
     "output_type": "stream",
     "text": [
      "Model accuracy score with rbf kernel and C=100.0 : 0.9733\n"
     ]
    }
   ],
   "source": [
    "# instantiate classifier with rbf kernel and C=100\n",
    "svc= SVC(C = 100, kernel = 'rbf')\n",
    "\n",
    "\n",
    "# fit classifier to training set\n",
    "svc.fit(xtrain, ytrain)\n",
    "\n",
    "\n",
    "# make predictions on test set\n",
    "pred_Hsvc = svc.predict(xtest)\n",
    "\n",
    "#calculate MSE\n",
    "mse_Hsvc = mean_squared_error(ytest, pred_Hsvc)\n",
    "\n",
    "\n",
    "# compute and print accuracy score\n",
    "print('Model accuracy score with rbf kernel and C=100.0 : {0:0.4f}'. format(svc.score(xtest,ytest)))"
   ]
  },
  {
   "cell_type": "code",
   "execution_count": 106,
   "metadata": {},
   "outputs": [
    {
     "data": {
      "image/png": "[encoded data removed]",
      "text/plain": [
       "<Figure size 432x288 with 2 Axes>"
      ]
     },
     "metadata": {
      "needs_background": "light"
     },
     "output_type": "display_data"
    }
   ],
   "source": [
    "from sklearn.metrics import ConfusionMatrixDisplay\n",
    "import matplotlib.pyplot as pl\n",
    "\n",
    "cm = ConfusionMatrixDisplay.from_estimator(svc, xtest, ytest)\n",
    "plt.title(\"SVM Model - Confusion Matrix\")\n",
    "plt.xticks(range(2), [\"Class 0\",\"Class 1\"], fontsize=16)\n",
    "plt.yticks(range(2), [\"Class 0\",\"Class 1\"], fontsize=16)\n",
    "plt.show()"
   ]
  },
  {
   "cell_type": "markdown",
   "metadata": {},
   "source": [
    "## SVM with linear kernel"
   ]
  },
  {
   "cell_type": "markdown",
   "metadata": {},
   "source": [
    "**Q7** Create SVM Model on the training set, and evaluate\n",
    "\n",
    "``Task:``\n",
    "\n",
    "1. Now, Create a SVM Model with linear kernel and C=1.0\n",
    "2. Fit the model with the train data\n",
    "3. Predict the values with the test data\n",
    "4. Calculate the test MSE \n",
    "5. Plot Confusion Matrix from the true & predicted test data\n",
    "\n",
    "\n",
    "**A7** Replace ??? with code in the code cell below\n"
   ]
  },
  {
   "cell_type": "code",
   "execution_count": 107,
   "metadata": {},
   "outputs": [
    {
     "name": "stdout",
     "output_type": "stream",
     "text": [
      "Model accuracy score with linear kernel and C=1.0 : 0.9741\n"
     ]
    }
   ],
   "source": [
    "# instantiate classifier with linear kernel and C=1.0\n",
    "linear_svc= SVC(C = 1.0, kernel = 'linear')\n",
    "\n",
    "\n",
    "# fit classifier to training set\n",
    "linear_svc.fit(xtrain, ytrain)\n",
    "\n",
    "\n",
    "# make predictions on test set\n",
    "pred_linear_svc = linear_svc.predict(xtest)\n",
    "\n",
    "#calculate MSE\n",
    "\n",
    "mse_linear_svc = mean_squared_error(ytest, pred_linear_svc)\n",
    "\n",
    "\n",
    "# compute and print accuracy score\n",
    "print('Model accuracy score with linear kernel and C=1.0 : {0:0.4f}'. format(linear_svc.score(xtest,ytest)))"
   ]
  },
  {
   "cell_type": "code",
   "execution_count": 108,
   "metadata": {},
   "outputs": [
    {
     "data": {
      "image/png": "[encoded data removed]",
      "text/plain": [
       "<Figure size 432x288 with 2 Axes>"
      ]
     },
     "metadata": {
      "needs_background": "light"
     },
     "output_type": "display_data"
    }
   ],
   "source": [
    "from sklearn.metrics import ConfusionMatrixDisplay\n",
    "import matplotlib.pyplot as pl\n",
    "\n",
    "cm = ConfusionMatrixDisplay.from_estimator(linear_svc, xtest, ytest)\n",
    "plt.title(\"SVM Model - Confusion Matrix\")\n",
    "plt.xticks(range(2), [\"Class 0\",\"Class 1\"], fontsize=16)\n",
    "plt.yticks(range(2), [\"Class 0\",\"Class 1\"], fontsize=16)\n",
    "plt.show()"
   ]
  },
  {
   "cell_type": "markdown",
   "metadata": {},
   "source": [
    "**Q8** Create a Grid Search for finetuning the value of ```C``` in SVM Model on the ```training set```,\n",
    "\n",
    "``Task:``\n",
    "\n",
    "1. Now, Create a SVM Model with linear kernel and evaluate the model for different values of C. ```Use 'C': [0.01, 0.1, 5, 10, 100]```\n",
    "2. Use the sklearn GridSearchCV method for finetuning the ```linear SVM```.\n",
    "3. Use ```3``` as the number of Cross Validation\n",
    "4. Use ```accuracy``` as the scoring technique\n",
    "5. Use ```clf.cv_results_ & clf.best_params_``` for getting the results from the Cross Validation run.\n",
    "5. Now, Plot the Confusion Matrix for test data, using the ```best value of C``` we found from our finetune.  \n",
    "\n",
    "\n",
    "**A8** Replace ??? with code in the code cell below\n"
   ]
  },
  {
   "cell_type": "code",
   "execution_count": 110,
   "metadata": {},
   "outputs": [
    {
     "data": {
      "text/plain": [
       "{'C': 5}"
      ]
     },
     "execution_count": 110,
     "metadata": {},
     "output_type": "execute_result"
    }
   ],
   "source": [
    "from sklearn.model_selection import GridSearchCV\n",
    "\n",
    "# Select the optimal C parameter by cross-validation\n",
    "tuned_parameters = [{'C': [0.01, 0.1, 5, 10, 100]}]\n",
    "clf = GridSearchCV(SVC(kernel = 'linear'), tuned_parameters, cv = 3, scoring = 'accuracy', return_train_score = True)\n",
    "clf.fit(xtrain, ytrain)\n",
    "clf.cv_results_\n",
    "clf.best_params_"
   ]
  },
  {
   "cell_type": "code",
   "execution_count": 111,
   "metadata": {},
   "outputs": [
    {
     "data": {
      "image/png": "[encoded data removed]",
      "text/plain": [
       "<Figure size 432x288 with 2 Axes>"
      ]
     },
     "metadata": {
      "needs_background": "light"
     },
     "output_type": "display_data"
    }
   ],
   "source": [
    "best_model= SVC(C = 5 ,kernel = 'linear')\n",
    "best_model.fit(xtrain, ytrain)\n",
    "cm = ConfusionMatrixDisplay.from_estimator(best_model ,xtest, ytest)\n",
    "plt.title(\"SVM Model - Confusion Matrix\")\n",
    "plt.xticks(range(2), [\"Class 0\",\"Class 1\"], fontsize=16)\n",
    "plt.yticks(range(2), [\"Class 0\",\"Class 1\"], fontsize=16)\n",
    "plt.show()"
   ]
  },
  {
   "cell_type": "markdown",
   "metadata": {},
   "source": [
    "### We can see that after using the Best Value of ```C```, we have less amount of false positive in our test data prediction."
   ]
  }
 ],
 "metadata": {
  "colab": {
   "collapsed_sections": [],
   "name": "Copy of CS4347-Assignment2-NETID.ipynb",
   "provenance": [
    {
     "file_id": "1vsORsvIGVbJ2cNHR1lIPDIuGobP25ZPq",
     "timestamp": 1629391503766
    },
    {
     "file_id": "1vuQua73YBPg3xOVKXACAGdS_8R1OlQdX",
     "timestamp": 1611597429764
    },
    {
     "file_id": "1Jr8VoifAgTlPqVE_AiCDeWbiHGEyvkxq",
     "timestamp": 1580784119108
    }
   ]
  },
  "interpreter": {
   "hash": "61092feec5071c5645c5e9fd8e6ed751662eaf3fad39a8c2be0e7ae1843d914b"
  },
  "kernelspec": {
   "display_name": "Python 3 (ipykernel)",
   "language": "python",
   "name": "python3"
  },
  "language_info": {
   "codemirror_mode": {
    "name": "ipython",
    "version": 3
   },
   "file_extension": ".py",
   "mimetype": "text/x-python",
   "name": "python",
   "nbconvert_exporter": "python",
   "pygments_lexer": "ipython3",
   "version": "3.9.7"
  }
 },
 "nbformat": 4,
 "nbformat_minor": 2
}
